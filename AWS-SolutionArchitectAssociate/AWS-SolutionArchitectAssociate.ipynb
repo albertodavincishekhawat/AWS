{
 "cells": [
  {
   "cell_type": "markdown",
   "metadata": {},
   "source": [
    "# AWS-SolutionArchitectAssociateCourse\n",
    "by Gaurav Agrawal"
   ]
  },
  {
   "cell_type": "markdown",
   "metadata": {},
   "source": [
    "> This course is not about creating apps i.e, development rather deploying and maintaining them on cloud!\n",
    "\n",
    "> I.T is not about more experience anymore it's about more skill. "
   ]
  },
  {
   "cell_type": "markdown",
   "metadata": {},
   "source": [
    "# Hands On Practice\n",
    "\n",
    "- Create instance, access it and terminate it"
   ]
  },
  {
   "cell_type": "markdown",
   "metadata": {},
   "source": [
    "# How to creating AWS account?"
   ]
  },
  {
   "cell_type": "markdown",
   "metadata": {},
   "source": [
    "[Video reference for account creation ](https://www.youtube.com/watch?v=p6TcrHLO5CY)"
   ]
  },
  {
   "cell_type": "markdown",
   "metadata": {},
   "source": [
    "# Charactristics of Cloud Computing\n",
    "![alt](images/char%20of%20cloud%20computing.PNG)\n",
    "> on premisses: onsite dataware house"
   ]
  },
  {
   "cell_type": "markdown",
   "metadata": {},
   "source": [
    "![alt](images/TypesofCloud.PNG)"
   ]
  },
  {
   "cell_type": "markdown",
   "metadata": {},
   "source": [
    "![alt](images/TypesManagement.PNG)"
   ]
  },
  {
   "cell_type": "markdown",
   "metadata": {},
   "source": [
    "> 3 of everything makes things cost effecctively safe\n",
    "Each aws region has minimum 3 availablity region "
   ]
  },
  {
   "cell_type": "markdown",
   "metadata": {},
   "source": [
    "Root user pays for everything and also create new users with limited access."
   ]
  },
  {
   "cell_type": "markdown",
   "metadata": {},
   "source": [
    "---"
   ]
  },
  {
   "cell_type": "markdown",
   "metadata": {},
   "source": [
    "# IAM \n",
    "**Identity and Access Managament**\n",
    "\n",
    "So that we can create multiple user according to requirments, it help\n",
    "s control access of these.\n",
    "\n",
    "- User\n",
    "- Group(for simillar users)\n",
    "- Policy (can be assigned to a user or group, permissions are decided by policy) basically permissions\n",
    "- Roles(If we asign EC2 a Role to access S3 only then it can accessS3.)\n",
    "If we are able to manage these our IAM is managed."
   ]
  },
  {
   "cell_type": "markdown",
   "metadata": {},
   "source": [
    "> its recommended we assign policy to groups and not user\n",
    "\n",
    "> it's adviced to give users roles so that restrictions and privelleges can be controlled in a more structured way"
   ]
  },
  {
   "cell_type": "markdown",
   "metadata": {},
   "source": [
    "---\n"
   ]
  },
  {
   "cell_type": "markdown",
   "metadata": {},
   "source": [
    "# Using AWS-cli"
   ]
  },
  {
   "cell_type": "markdown",
   "metadata": {},
   "source": [
    "---"
   ]
  },
  {
   "cell_type": "markdown",
   "metadata": {},
   "source": [
    "# EC2"
   ]
  },
  {
   "cell_type": "markdown",
   "metadata": {},
   "source": [
    "Servers are not arranged as systems i.e, not as bunch of cpu ram and storage \n",
    "\n",
    "Rather cpu ram and storage are all placed at different places and used as different recources and used or assigned as much as needed.\n",
    "\n",
    "> N.virginia is the only region where we can set alerts, it is the safest to use as per free-tier\n",
    "> Savings plans are of 1 or 3 years"
   ]
  },
  {
   "cell_type": "markdown",
   "metadata": {},
   "source": [
    "## Creating an **EC2** server\n",
    "- From HOMEPAGE click on **Launch instance**\n",
    "- Give a  Name to it\n",
    "- Choose operating system (need to use RDP for Windows after instance initiates)\n",
    "- Choose instance type (T2 micro for free tier)\n",
    "- create a \"Key-pair\" and save it on your system (.pimp format)\n",
    "- Clickck : Allow RDP traffic(default)\n",
    "- tick : Allow HTTP traffic from internet : if you need it to be accessable by the internet\n",
    "- configure storage(as much you need)\n",
    "- Launch the instance (always terminate after use or it will cost)\n"
   ]
  },
  {
   "cell_type": "markdown",
   "metadata": {},
   "source": [
    "\n",
    "- For Windows\n",
    "    - Type RDP(Remote Desktop Protocol) in run\n",
    "    - Goto Instance tab\n",
    "        - Get DNS and username(highly probable \"Administrator\") of instance from details on Instance Tab\n",
    "        - Click on CONNECT in instance tab\n",
    "    - Paste them in RDP tab\n",
    "        - it will ask for password\n",
    "\n",
    "    - Go to instance tab and click on \"Get Password\"\n",
    "        - upload the keypair,pimp file \n",
    "        - Click \"Decrypt Password\"\n",
    "        - \n",
    "\n",
    "\n"
   ]
  },
  {
   "cell_type": "markdown",
   "metadata": {},
   "source": [
    "# Pricing       -----------Add when you get ppt\n",
    "- Spot instance\n",
    "    - Not reliable prefered for backend processing and not storage and market facing computes. \n"
   ]
  },
  {
   "cell_type": "markdown",
   "metadata": {},
   "source": [
    "Different ec2 purchase options!"
   ]
  },
  {
   "cell_type": "markdown",
   "metadata": {},
   "source": [
    "## "
   ]
  },
  {
   "cell_type": "markdown",
   "metadata": {},
   "source": [
    "## Horizontal scaling"
   ]
  },
  {
   "cell_type": "markdown",
   "metadata": {},
   "source": [
    "High Availablity goes hand in hand with horizontal scalling"
   ]
  },
  {
   "cell_type": "markdown",
   "metadata": {},
   "source": [
    "### Load Balancer\n",
    "Used to access two or more machines via single IP address or DNS an helps manage load.\n",
    "\n",
    "Customer uses application via Load Balancer\n",
    "\n",
    "Provided by AWS as **\"Application Load Balancer\"**"
   ]
  },
  {
   "cell_type": "markdown",
   "metadata": {},
   "source": []
  }
 ],
 "metadata": {
  "language_info": {
   "name": "python"
  }
 },
 "nbformat": 4,
 "nbformat_minor": 2
}
